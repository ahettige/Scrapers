{
 "metadata": {
  "name": "",
  "signature": "sha256:4cbee9484d6a411071fb165fbc2a001c1ed2fcbb1abdb6362143133e8bf93642"
 },
 "nbformat": 3,
 "nbformat_minor": 0,
 "worksheets": [
  {
   "cells": [
    {
     "cell_type": "code",
     "collapsed": false,
     "input": [
      "!pip install requests[security] --upgrade"
     ],
     "language": "python",
     "metadata": {},
     "outputs": [
      {
       "output_type": "stream",
       "stream": "stdout",
       "text": [
        "Requirement already up-to-date: requests[security] in /Users/Alex/_notebook/lib/python2.7/site-packages\r\n",
        "  Installing extra requirements: 'security'\r\n",
        "Cleaning up...\r\n"
       ]
      }
     ],
     "prompt_number": 100
    },
    {
     "cell_type": "code",
     "collapsed": false,
     "input": [
      "from bs4 import BeautifulSoup\n",
      "import pandas as pd\n",
      "import urllib\n",
      "import html5lib\n",
      "import re\n",
      "import os\n",
      "from bs4 import BeautifulSoup"
     ],
     "language": "python",
     "metadata": {},
     "outputs": [],
     "prompt_number": 111
    },
    {
     "cell_type": "heading",
     "level": 1,
     "metadata": {},
     "source": [
      "Read in the CSV and Set Websites to Search"
     ]
    },
    {
     "cell_type": "markdown",
     "metadata": {},
     "source": [
      "You can open up multiple notebooks and run this code on different sections of the website list. So in a second notebook you might have:\n",
      "\n",
      "Websites = Websites[11:20]\n",
      "and run them at the same time. \n",
      "Just make sure you change the output to a different csv name at the end."
     ]
    },
    {
     "cell_type": "code",
     "collapsed": false,
     "input": [
      "Website_and_CC = pd.read_csv('/Users/Alex/Documents/ASX Websites.csv')\n",
      "Websites = Website_and_CC['Internet address']\n",
      "Websites = Websites[:50] \n",
      "Websites"
     ],
     "language": "python",
     "metadata": {},
     "outputs": [
      {
       "metadata": {},
       "output_type": "pyout",
       "prompt_number": 156,
       "text": [
        "0                           http://www.1-Page.com\n",
        "1                  Http://www.1stavailable.com.au\n",
        "2                    http://www.3dmedical.com.au/\n",
        "3                       http://www.3plearning.com\n",
        "4                http://www.tangierspetroleum.com\n",
        "5                          http://www.8common.com\n",
        "6                          http://8iholdings.com/\n",
        "7                 http://www.thea2milkcompany.com\n",
        "8                          http://www.aaco.com.au\n",
        "9                 http://www.ardentleisure.com.au\n",
        "10                           http://www.alcoa.com\n",
        "11                  http://www.arumaresources.com\n",
        "12                           http://www.aakch.com\n",
        "13                        http://www.apaccoal.com\n",
        "14                        http://www.voopl.com.au\n",
        "15                        http://www.anglo.com.au\n",
        "16                 http://www.aat-corporation.com\n",
        "17                       http://www.adcorp.com.au\n",
        "18                         http://www.ausenco.com\n",
        "19                  http://www.animocabrands.com/\n",
        "20                  http://www.auswidebank.com.au\n",
        "21                        http://www.adbri.com.au\n",
        "22                         http://www.ausmani.com\n",
        "23                     http://www.worldoil.com.au\n",
        "24               http://www.abacusproperty.com.au\n",
        "25                 http://www.abmresources.com.au\n",
        "26                 http://www.advancedbraking.com\n",
        "27                  http://www.aurorafunds.com.au\n",
        "28            http://www.australianbauxite.com.au\n",
        "29          http://www.adityabirlaminerals.com.au\n",
        "30                        http://www.a-cap.com.au\n",
        "31                 http://www.advancedengine.com/\n",
        "32                http://www.atcormedical.com.au/\n",
        "33                         http://www.austock.com\n",
        "34    http://www.australiancareersnetwork.com.au/\n",
        "35                      http://www.audalia.com.au\n",
        "36                 http://www.acorncapital.com.au\n",
        "37                        http://www.acrux.com.au\n",
        "38              http://www.accentresources.com.au\n",
        "39                          http://www.acuvax.com\n",
        "40                    http://www.actinogen.com.au\n",
        "41                          http://www.aconex.com\n",
        "42                          http://www.adacel.com\n",
        "43                       http://www.adairs.com.au\n",
        "44                          http://www.adslot.com\n",
        "45            http://www.adelaideresources.com.au\n",
        "46                         http://www.anteodx.com\n",
        "47                 http://www.adgglobalsupply.com\n",
        "48                      http://www.ardiden.com.au\n",
        "49                    http://www.adxenergy.com.au\n",
        "Name: Internet address, dtype: object"
       ]
      }
     ],
     "prompt_number": 156
    },
    {
     "cell_type": "heading",
     "level": 1,
     "metadata": {},
     "source": [
      "Define Function to Get Social Media Details"
     ]
    },
    {
     "cell_type": "markdown",
     "metadata": {},
     "source": [
      "Notice we are sending each type of social media to a different dictionary which will ultimately become its own csv. This is because there are some instances where there will be a Twitter page but no facebook page for example so we want to keep them matched with the index 'Website'."
     ]
    },
    {
     "cell_type": "code",
     "collapsed": false,
     "input": [
      "Twitter = {'Website':[],\n",
      "           'TwitterHandles':[]}\n",
      "Facebook = {'Website':[],\n",
      "            'Facebook':[]}\n",
      "LinkedIn = {'Website':[],\n",
      "            'LinkedIn':[]}"
     ],
     "language": "python",
     "metadata": {},
     "outputs": [],
     "prompt_number": 157
    },
    {
     "cell_type": "code",
     "collapsed": false,
     "input": [
      "def get_social_media(url): \n",
      "    print url\n",
      "    try:\n",
      "        r = urllib.urlopen(url)\n",
      "        soup = BeautifulSoup(r)\n",
      "        try:\n",
      "            for href in soup.findAll(\"a\",href=re.compile('twitter')):\n",
      "                Twitter['TwitterHandles'].append(href['href'])\n",
      "                Twitter['Website'].append(url)\n",
      "        except:\n",
      "            pass\n",
      "        try:\n",
      "            for href in soup.findAll(\"a\",href=re.compile('facebook')):\n",
      "                Facebook['Facebook'].append(href['href'])\n",
      "                Facebook['Website'].append(url)\n",
      "        except:\n",
      "            pass\n",
      "        try:\n",
      "            for href in soup.findAll(\"a\",href=re.compile('linkedin')):\n",
      "                LinkedIn['LinkedIn'].append(href['href'])\n",
      "                LinkedIn['Website'].append(url)\n",
      "        except:\n",
      "            pass\n",
      "    except:\n",
      "        pass"
     ],
     "language": "python",
     "metadata": {},
     "outputs": [],
     "prompt_number": 158
    },
    {
     "cell_type": "markdown",
     "metadata": {},
     "source": [
      "Now just iterating through our list of websites we selected."
     ]
    },
    {
     "cell_type": "code",
     "collapsed": false,
     "input": [
      "for url in Websites:\n",
      "    get_social_media(url)"
     ],
     "language": "python",
     "metadata": {},
     "outputs": [
      {
       "output_type": "stream",
       "stream": "stdout",
       "text": [
        "http://www.1-Page.com\n",
        "Http://www.1stavailable.com.au"
       ]
      },
      {
       "output_type": "stream",
       "stream": "stdout",
       "text": [
        "\n",
        "http://www.3dmedical.com.au/"
       ]
      },
      {
       "output_type": "stream",
       "stream": "stdout",
       "text": [
        "\n",
        "http://www.3plearning.com"
       ]
      },
      {
       "output_type": "stream",
       "stream": "stdout",
       "text": [
        "\n",
        "http://www.tangierspetroleum.com"
       ]
      },
      {
       "output_type": "stream",
       "stream": "stdout",
       "text": [
        "\n",
        "http://www.8common.com"
       ]
      },
      {
       "output_type": "stream",
       "stream": "stdout",
       "text": [
        "\n",
        "http://8iholdings.com/"
       ]
      },
      {
       "output_type": "stream",
       "stream": "stdout",
       "text": [
        "\n",
        "http://www.thea2milkcompany.com"
       ]
      },
      {
       "output_type": "stream",
       "stream": "stdout",
       "text": [
        "\n",
        "http://www.aaco.com.au"
       ]
      },
      {
       "output_type": "stream",
       "stream": "stdout",
       "text": [
        "\n",
        "http://www.ardentleisure.com.au"
       ]
      },
      {
       "output_type": "stream",
       "stream": "stdout",
       "text": [
        "\n",
        "http://www.alcoa.com"
       ]
      },
      {
       "output_type": "stream",
       "stream": "stdout",
       "text": [
        "\n",
        "http://www.arumaresources.com"
       ]
      },
      {
       "output_type": "stream",
       "stream": "stdout",
       "text": [
        "\n",
        "http://www.aakch.com"
       ]
      },
      {
       "output_type": "stream",
       "stream": "stdout",
       "text": [
        "\n",
        "http://www.apaccoal.com"
       ]
      },
      {
       "output_type": "stream",
       "stream": "stdout",
       "text": [
        "\n",
        "http://www.voopl.com.au"
       ]
      },
      {
       "output_type": "stream",
       "stream": "stdout",
       "text": [
        "\n",
        "http://www.anglo.com.au"
       ]
      },
      {
       "output_type": "stream",
       "stream": "stdout",
       "text": [
        "\n",
        "http://www.aat-corporation.com"
       ]
      },
      {
       "output_type": "stream",
       "stream": "stdout",
       "text": [
        "\n",
        "http://www.adcorp.com.au"
       ]
      },
      {
       "output_type": "stream",
       "stream": "stdout",
       "text": [
        "\n",
        "http://www.ausenco.com"
       ]
      },
      {
       "output_type": "stream",
       "stream": "stdout",
       "text": [
        "\n",
        "http://www.animocabrands.com/"
       ]
      },
      {
       "output_type": "stream",
       "stream": "stdout",
       "text": [
        "\n",
        "http://www.auswidebank.com.au"
       ]
      },
      {
       "output_type": "stream",
       "stream": "stdout",
       "text": [
        "\n",
        "http://www.adbri.com.au"
       ]
      },
      {
       "output_type": "stream",
       "stream": "stdout",
       "text": [
        "\n",
        "http://www.ausmani.com"
       ]
      },
      {
       "output_type": "stream",
       "stream": "stdout",
       "text": [
        "\n",
        "http://www.worldoil.com.au"
       ]
      },
      {
       "output_type": "stream",
       "stream": "stdout",
       "text": [
        "\n",
        "http://www.abacusproperty.com.au"
       ]
      },
      {
       "output_type": "stream",
       "stream": "stdout",
       "text": [
        "\n",
        "http://www.abmresources.com.au"
       ]
      },
      {
       "output_type": "stream",
       "stream": "stdout",
       "text": [
        "\n",
        "http://www.advancedbraking.com"
       ]
      },
      {
       "output_type": "stream",
       "stream": "stdout",
       "text": [
        "\n",
        "http://www.aurorafunds.com.au"
       ]
      },
      {
       "output_type": "stream",
       "stream": "stdout",
       "text": [
        "\n",
        "http://www.australianbauxite.com.au"
       ]
      },
      {
       "output_type": "stream",
       "stream": "stdout",
       "text": [
        "\n",
        "http://www.adityabirlaminerals.com.au"
       ]
      },
      {
       "output_type": "stream",
       "stream": "stdout",
       "text": [
        "\n",
        "http://www.a-cap.com.au"
       ]
      },
      {
       "output_type": "stream",
       "stream": "stdout",
       "text": [
        "\n",
        "http://www.advancedengine.com/"
       ]
      },
      {
       "output_type": "stream",
       "stream": "stdout",
       "text": [
        "\n",
        "http://www.atcormedical.com.au/\n",
        "http://www.austock.com"
       ]
      },
      {
       "output_type": "stream",
       "stream": "stdout",
       "text": [
        "\n",
        "http://www.australiancareersnetwork.com.au/"
       ]
      },
      {
       "output_type": "stream",
       "stream": "stdout",
       "text": [
        "\n",
        "http://www.audalia.com.au"
       ]
      },
      {
       "output_type": "stream",
       "stream": "stdout",
       "text": [
        "\n",
        "http://www.acorncapital.com.au"
       ]
      },
      {
       "output_type": "stream",
       "stream": "stdout",
       "text": [
        "\n",
        "http://www.acrux.com.au"
       ]
      },
      {
       "output_type": "stream",
       "stream": "stdout",
       "text": [
        "\n",
        "http://www.accentresources.com.au"
       ]
      },
      {
       "output_type": "stream",
       "stream": "stdout",
       "text": [
        "\n",
        "http://www.acuvax.com"
       ]
      },
      {
       "output_type": "stream",
       "stream": "stdout",
       "text": [
        "\n",
        "http://www.actinogen.com.au"
       ]
      },
      {
       "output_type": "stream",
       "stream": "stdout",
       "text": [
        "\n",
        "http://www.aconex.com"
       ]
      },
      {
       "output_type": "stream",
       "stream": "stdout",
       "text": [
        "\n",
        "http://www.adacel.com"
       ]
      },
      {
       "output_type": "stream",
       "stream": "stdout",
       "text": [
        "\n",
        "http://www.adairs.com.au"
       ]
      },
      {
       "output_type": "stream",
       "stream": "stdout",
       "text": [
        "\n",
        "http://www.adslot.com"
       ]
      },
      {
       "output_type": "stream",
       "stream": "stdout",
       "text": [
        "\n",
        "http://www.adelaideresources.com.au"
       ]
      },
      {
       "output_type": "stream",
       "stream": "stdout",
       "text": [
        "\n",
        "http://www.anteodx.com"
       ]
      },
      {
       "output_type": "stream",
       "stream": "stdout",
       "text": [
        "\n",
        "http://www.adgglobalsupply.com"
       ]
      },
      {
       "output_type": "stream",
       "stream": "stdout",
       "text": [
        "\n",
        "http://www.ardiden.com.au"
       ]
      },
      {
       "output_type": "stream",
       "stream": "stdout",
       "text": [
        "\n",
        "http://www.adxenergy.com.au"
       ]
      },
      {
       "output_type": "stream",
       "stream": "stdout",
       "text": [
        "\n"
       ]
      }
     ],
     "prompt_number": 159
    },
    {
     "cell_type": "markdown",
     "metadata": {},
     "source": [
      "Sending out our Data to the csv. I'm converting to a pandas DataFrame because dataframes can be sent to a csv in a single line whereas dicts can't"
     ]
    },
    {
     "cell_type": "code",
     "collapsed": false,
     "input": [
      "LinkedIn = pd.DataFrame(LinkedIn)\n",
      "LinkedIn.to_csv(\"/Users/Alex/Documents/CommercePipeLocal/LinkedIn.csv\")\n",
      "Twitter = pd.DataFrame(Twitter)\n",
      "Twitter.to_csv(\"/Users/Alex/Documents/CommercePipeLocal/Twitter.csv\")\n",
      "Facebook = pd.DataFrame(Facebook)\n",
      "Facebook.to_csv(\"/Users/Alex/Documents/CommercePipeLocal/Facebook.csv\")"
     ],
     "language": "python",
     "metadata": {},
     "outputs": [],
     "prompt_number": 160
    },
    {
     "cell_type": "code",
     "collapsed": false,
     "input": [
      "Twitter"
     ],
     "language": "python",
     "metadata": {},
     "outputs": [
      {
       "html": [
        "<div style=\"max-height:1000px;max-width:1500px;overflow:auto;\">\n",
        "<table border=\"1\" class=\"dataframe\">\n",
        "  <thead>\n",
        "    <tr style=\"text-align: right;\">\n",
        "      <th></th>\n",
        "      <th>TwitterHandles</th>\n",
        "      <th>Website</th>\n",
        "    </tr>\n",
        "  </thead>\n",
        "  <tbody>\n",
        "    <tr>\n",
        "      <th>0 </th>\n",
        "      <td>                   clkn/https/twitter.com/1pagebiz</td>\n",
        "      <td>            http://www.1-Page.com</td>\n",
        "    </tr>\n",
        "    <tr>\n",
        "      <th>1 </th>\n",
        "      <td>                  https://twitter.com/1stavailable</td>\n",
        "      <td>   Http://www.1stavailable.com.au</td>\n",
        "    </tr>\n",
        "    <tr>\n",
        "      <th>2 </th>\n",
        "      <td>               http://www.twitter.com/3dmedicalltd</td>\n",
        "      <td>     http://www.3dmedical.com.au/</td>\n",
        "    </tr>\n",
        "    <tr>\n",
        "      <th>3 </th>\n",
        "      <td>                       http://twitter.com/3dersorg</td>\n",
        "      <td>     http://www.3dmedical.com.au/</td>\n",
        "    </tr>\n",
        "    <tr>\n",
        "      <th>4 </th>\n",
        "      <td>           https://twitter.com/search?q=3dprinting</td>\n",
        "      <td>     http://www.3dmedical.com.au/</td>\n",
        "    </tr>\n",
        "    <tr>\n",
        "      <th>5 </th>\n",
        "      <td>            https://twitter.com/search?q=3dprinter</td>\n",
        "      <td>     http://www.3dmedical.com.au/</td>\n",
        "    </tr>\n",
        "    <tr>\n",
        "      <th>6 </th>\n",
        "      <td> http://twitter.com/3dmedicalltd/statuses/61935...</td>\n",
        "      <td>     http://www.3dmedical.com.au/</td>\n",
        "    </tr>\n",
        "    <tr>\n",
        "      <th>7 </th>\n",
        "      <td>                     http://twitter.com/3PLearning</td>\n",
        "      <td>        http://www.3plearning.com</td>\n",
        "    </tr>\n",
        "    <tr>\n",
        "      <th>8 </th>\n",
        "      <td>                   https://twitter.com/88EnergyLtd</td>\n",
        "      <td> http://www.tangierspetroleum.com</td>\n",
        "    </tr>\n",
        "    <tr>\n",
        "      <th>9 </th>\n",
        "      <td>                       http://twitter.com/AustAgCo</td>\n",
        "      <td>           http://www.aaco.com.au</td>\n",
        "    </tr>\n",
        "    <tr>\n",
        "      <th>10</th>\n",
        "      <td>                      http://www.twitter.com/alcoa</td>\n",
        "      <td>             http://www.alcoa.com</td>\n",
        "    </tr>\n",
        "    <tr>\n",
        "      <th>11</th>\n",
        "      <td>                     https://twitter.com/AdcorpAUS</td>\n",
        "      <td>         http://www.adcorp.com.au</td>\n",
        "    </tr>\n",
        "    <tr>\n",
        "      <th>12</th>\n",
        "      <td>                     https://twitter.com/AdcorpAUS</td>\n",
        "      <td>         http://www.adcorp.com.au</td>\n",
        "    </tr>\n",
        "    <tr>\n",
        "      <th>13</th>\n",
        "      <td>                      https://twitter.com/AdcorpNZ</td>\n",
        "      <td>         http://www.adcorp.com.au</td>\n",
        "    </tr>\n",
        "    <tr>\n",
        "      <th>14</th>\n",
        "      <td> https://twitter.com/intent/tweet?text=@Ausenco...</td>\n",
        "      <td>           http://www.ausenco.com</td>\n",
        "    </tr>\n",
        "    <tr>\n",
        "      <th>15</th>\n",
        "      <td>                       https://twitter.com/ausenco</td>\n",
        "      <td>           http://www.ausenco.com</td>\n",
        "    </tr>\n",
        "    <tr>\n",
        "      <th>16</th>\n",
        "      <td>                            http://www.twitter.com</td>\n",
        "      <td>      http://www.actinogen.com.au</td>\n",
        "    </tr>\n",
        "    <tr>\n",
        "      <th>17</th>\n",
        "      <td>                        https://twitter.com/aconex</td>\n",
        "      <td>            http://www.aconex.com</td>\n",
        "    </tr>\n",
        "    <tr>\n",
        "      <th>18</th>\n",
        "      <td>                 https://twitter.com/AdacelSystems</td>\n",
        "      <td>            http://www.adacel.com</td>\n",
        "    </tr>\n",
        "    <tr>\n",
        "      <th>19</th>\n",
        "      <td>                         http://twitter.com/adslot</td>\n",
        "      <td>            http://www.adslot.com</td>\n",
        "    </tr>\n",
        "    <tr>\n",
        "      <th>20</th>\n",
        "      <td>                     http://twitter.com/ADG_Tweets</td>\n",
        "      <td>   http://www.adgglobalsupply.com</td>\n",
        "    </tr>\n",
        "  </tbody>\n",
        "</table>\n",
        "</div>"
       ],
       "metadata": {},
       "output_type": "pyout",
       "prompt_number": 162,
       "text": [
        "                                       TwitterHandles  \\\n",
        "0                     clkn/https/twitter.com/1pagebiz   \n",
        "1                    https://twitter.com/1stavailable   \n",
        "2                 http://www.twitter.com/3dmedicalltd   \n",
        "3                         http://twitter.com/3dersorg   \n",
        "4             https://twitter.com/search?q=3dprinting   \n",
        "5              https://twitter.com/search?q=3dprinter   \n",
        "6   http://twitter.com/3dmedicalltd/statuses/61935...   \n",
        "7                       http://twitter.com/3PLearning   \n",
        "8                     https://twitter.com/88EnergyLtd   \n",
        "9                         http://twitter.com/AustAgCo   \n",
        "10                       http://www.twitter.com/alcoa   \n",
        "11                      https://twitter.com/AdcorpAUS   \n",
        "12                      https://twitter.com/AdcorpAUS   \n",
        "13                       https://twitter.com/AdcorpNZ   \n",
        "14  https://twitter.com/intent/tweet?text=@Ausenco...   \n",
        "15                        https://twitter.com/ausenco   \n",
        "16                             http://www.twitter.com   \n",
        "17                         https://twitter.com/aconex   \n",
        "18                  https://twitter.com/AdacelSystems   \n",
        "19                          http://twitter.com/adslot   \n",
        "20                      http://twitter.com/ADG_Tweets   \n",
        "\n",
        "                             Website  \n",
        "0              http://www.1-Page.com  \n",
        "1     Http://www.1stavailable.com.au  \n",
        "2       http://www.3dmedical.com.au/  \n",
        "3       http://www.3dmedical.com.au/  \n",
        "4       http://www.3dmedical.com.au/  \n",
        "5       http://www.3dmedical.com.au/  \n",
        "6       http://www.3dmedical.com.au/  \n",
        "7          http://www.3plearning.com  \n",
        "8   http://www.tangierspetroleum.com  \n",
        "9             http://www.aaco.com.au  \n",
        "10              http://www.alcoa.com  \n",
        "11          http://www.adcorp.com.au  \n",
        "12          http://www.adcorp.com.au  \n",
        "13          http://www.adcorp.com.au  \n",
        "14            http://www.ausenco.com  \n",
        "15            http://www.ausenco.com  \n",
        "16       http://www.actinogen.com.au  \n",
        "17             http://www.aconex.com  \n",
        "18             http://www.adacel.com  \n",
        "19             http://www.adslot.com  \n",
        "20    http://www.adgglobalsupply.com  "
       ]
      }
     ],
     "prompt_number": 162
    },
    {
     "cell_type": "code",
     "collapsed": false,
     "input": [],
     "language": "python",
     "metadata": {},
     "outputs": []
    }
   ],
   "metadata": {}
  }
 ]
}