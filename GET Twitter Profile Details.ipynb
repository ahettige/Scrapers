{
 "metadata": {
  "name": "",
  "signature": "sha256:3655b3c32dbc53014624d54d30f1c2013656aa0cf23240e87fd9ac81bf1066d8"
 },
 "nbformat": 3,
 "nbformat_minor": 0,
 "worksheets": [
  {
   "cells": [
    {
     "cell_type": "heading",
     "level": 1,
     "metadata": {},
     "source": [
      "GET Twitter Profile Details"
     ]
    },
    {
     "cell_type": "code",
     "collapsed": false,
     "input": [
      "import re\n",
      "from urllib import urlretrieve\n",
      "import twitter\n",
      "import pandas as pd\n",
      "import time\n",
      "CONSUMER_KEY = 'MQlmbcIq0BtZBlnOqhI4qCfhW'\n",
      "CONSUMER_SECRET = 'VwLAn6tuHkiyIDJkXzHqCqCGh7XMzyZJ8I6arra0GCr3SgiIsQ'\n",
      "OAUTH_TOKEN = '374457580-6x92YQbTo6pCsv1TGjlSBqAGFst7DzNxXRhbjrnA'\n",
      "OAUTH_TOKEN_SECRET = '2W2SbEbHEIznBJYsne4UxNWCyO5GmBxE7KoxKgoj9A25g'"
     ],
     "language": "python",
     "metadata": {},
     "outputs": [],
     "prompt_number": 1
    },
    {
     "cell_type": "code",
     "collapsed": false,
     "input": [
      "auth = twitter.oauth.OAuth(OAUTH_TOKEN, OAUTH_TOKEN_SECRET,\n",
      "                           CONSUMER_KEY, CONSUMER_SECRET)\n",
      "twitter_api = twitter.Twitter(auth=auth)"
     ],
     "language": "python",
     "metadata": {},
     "outputs": [],
     "prompt_number": 2
    },
    {
     "cell_type": "code",
     "collapsed": false,
     "input": [
      "TwitterData = pd.read_csv('/Users/Alex/Documents/CommercePipeLocal/TwitterHandlesClean.csv')"
     ],
     "language": "python",
     "metadata": {},
     "outputs": [],
     "prompt_number": 42
    },
    {
     "cell_type": "code",
     "collapsed": false,
     "input": [
      "User_Info = {'screen_name':[],\n",
      "                'Description':[],\n",
      "                 'FollowersCount':[],\n",
      "                 'FollowingCount':[],\n",
      "                 }\n",
      "def get_user_info(screen_name):\n",
      "    try:\n",
      "        user_data = twitter_api.users.show(screen_name=screen_name)\n",
      "        profile_url = user_data['profile_image_url_https']\n",
      "        profile_url = re.sub('_normal', '', profile_url)\n",
      "        User_Info['screen_name'].append(screen_name)\n",
      "        User_Info['Description'].append(user_data['description'])\n",
      "        User_Info['FollowersCount'].append(user_data['followers_count'])\n",
      "        User_Info['FollowingCount'].append(user_data['friends_count'])\n",
      "    except:\n",
      "        User_Info['screen_name'].append('Invalid Twitter')\n",
      "        User_Info['Description'].append('Invalid Twitter')\n",
      "        User_Info['FollowersCount'].append('Invalid Twitter')\n",
      "        User_Info['FollowingCount'].append('Invalid Twitter')\n",
      "    time.sleep(5)"
     ],
     "language": "python",
     "metadata": {},
     "outputs": [],
     "prompt_number": 43
    },
    {
     "cell_type": "code",
     "collapsed": false,
     "input": [
      "for screen_name in TwitterData['Handle']:\n",
      "    get_user_info(screen_name)"
     ],
     "language": "python",
     "metadata": {},
     "outputs": [],
     "prompt_number": 44
    },
    {
     "cell_type": "code",
     "collapsed": false,
     "input": [
      "User_Export = pd.DataFrame(User_Info)\n",
      "Codes = pd.DataFrame(TwitterData['Code'])\n",
      "User_Export2 = pd.concat([User_Export,Codes],axis=1)\n",
      "User_Export2\n",
      "User_Export2.to_csv(\"/Users/Alex/Documents/TwitterUserData.csv\",encoding=\"utf-8\")"
     ],
     "language": "python",
     "metadata": {},
     "outputs": [],
     "prompt_number": 56
    },
    {
     "cell_type": "code",
     "collapsed": false,
     "input": [
      "file_name = \"/Users/Alex/Documents/Twitter Logos/BHP.jpg\"\n",
      "urlretrieve(profile_url,file_name)"
     ],
     "language": "python",
     "metadata": {},
     "outputs": [
      {
       "metadata": {},
       "output_type": "pyout",
       "prompt_number": 25,
       "text": [
        "('/Users/Alex/Documents/Twitter Logos/BHP.jpg',\n",
        " <httplib.HTTPMessage instance at 0x1095f33f8>)"
       ]
      }
     ],
     "prompt_number": 25
    },
    {
     "cell_type": "code",
     "collapsed": false,
     "input": [],
     "language": "python",
     "metadata": {},
     "outputs": []
    }
   ],
   "metadata": {}
  }
 ]
}